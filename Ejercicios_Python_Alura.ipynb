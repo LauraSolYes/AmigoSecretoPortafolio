{
  "nbformat": 4,
  "nbformat_minor": 0,
  "metadata": {
    "colab": {
      "provenance": [],
      "authorship_tag": "ABX9TyPUmg7TLjniCk8F/75Un2Rw",
      "include_colab_link": true
    },
    "kernelspec": {
      "name": "python3",
      "display_name": "Python 3"
    },
    "language_info": {
      "name": "python"
    }
  },
  "cells": [
    {
      "cell_type": "markdown",
      "metadata": {
        "id": "view-in-github",
        "colab_type": "text"
      },
      "source": [
        "<a href=\"https://colab.research.google.com/github/LauraSolYes/AmigoSecretoPortafolio/blob/main/Ejercicios_Python_Alura.ipynb\" target=\"_parent\"><img src=\"https://colab.research.google.com/assets/colab-badge.svg\" alt=\"Open In Colab\"/></a>"
      ]
    },
    {
      "cell_type": "code",
      "execution_count": 70,
      "metadata": {
        "id": "s6JBIrBA3GgI",
        "colab": {
          "base_uri": "https://localhost:8080/"
        },
        "outputId": "07eb7712-e994-42a6-f995-ea6578c0c995"
      },
      "outputs": [
        {
          "output_type": "stream",
          "name": "stdout",
          "text": [
            "¿Cuál es tu nombre?: Laura\n",
            "Hola Laura\n"
          ]
        }
      ],
      "source": [
        "# Crear un programa que le pida al usuario que escriba su nombre y luego imprima \"Hola, [nombre]\"\n",
        "nombre=input(\"¿Cuál es tu nombre?: \")\n",
        "print(f\"Hola {nombre}\")"
      ]
    },
    {
      "cell_type": "code",
      "source": [
        "#Crear un programa que pida al usuario escribir su nombre y edad, luego imprimir \"Hola [nombre], tienes [edad] años\"\n",
        "nombre=input(\"¿Cuál es tu nombre?: \")\n",
        "edad=input(\"¿Cuál es tu edad?: \")\n",
        "print(f\"Hola {nombre}, tienes {edad} años\")"
      ],
      "metadata": {
        "colab": {
          "base_uri": "https://localhost:8080/"
        },
        "id": "1zpGmT4m_NBG",
        "outputId": "8cc5c590-1c9c-4ae6-952b-ad667145f5c6"
      },
      "execution_count": 69,
      "outputs": [
        {
          "output_type": "stream",
          "name": "stdout",
          "text": [
            "¿Cuál es tu nombre?: Laura\n",
            "¿Cuál es tu edad?: 38\n",
            "Hola Laura, tienes 38 años\n"
          ]
        }
      ]
    },
    {
      "cell_type": "code",
      "source": [
        "#Crear un programa que pida al usuario escribir su nombre, edad y altura en metros, y luego imprimir \"Hola, [nombre], tienes [edad] años y mides [altura] metros\"\n",
        "nombre=input(\"¿Cuál es tu nombre?: \")\n",
        "edad=input(\"¿Cuál es tu edad?: \")\n",
        "altura=input(\"¿Cuál es tu altura en metros?: \")\n",
        "print(f\"hola {nombre}, tienes {edad} años y mides {altura} metros\")"
      ],
      "metadata": {
        "colab": {
          "base_uri": "https://localhost:8080/"
        },
        "id": "tLM0gkcdArqF",
        "outputId": "05ce4a4a-5fb5-4b0e-eed4-6d2a284fd825"
      },
      "execution_count": 67,
      "outputs": [
        {
          "output_type": "stream",
          "name": "stdout",
          "text": [
            "¿Cuál es tu nombre?: Laura\n",
            "¿Cuál es tu edad?: 38\n",
            "¿Cuál es tu altura en metros?: 1.52\n",
            "hola Laura, tienes 38 años y mides 1.52 metros\n"
          ]
        }
      ]
    },
    {
      "cell_type": "code",
      "source": [
        "#Crear un programa que solicite valores numéricos al usuario y luego imprima la suma de ambos valores\n",
        "numero1=int(input(\"Escribe primer número: \"))\n",
        "numero2=int(input(\"Escribe segundo número: \"))\n",
        "suma=numero1+numero2\n",
        "print(f\"suma= {suma}\")"
      ],
      "metadata": {
        "colab": {
          "base_uri": "https://localhost:8080/"
        },
        "id": "oLuoLgPiA-4l",
        "outputId": "648f4ebe-b644-4af8-8283-943c90534109"
      },
      "execution_count": 66,
      "outputs": [
        {
          "output_type": "stream",
          "name": "stdout",
          "text": [
            "Escribe primer número: 48\n",
            "Escribe segundo número: 11\n",
            "suma= 59\n"
          ]
        }
      ]
    },
    {
      "cell_type": "code",
      "source": [
        "#Crea un programa que solicite tres valores numéricos al usuario e imprima la suma de los tres valores\n",
        "numero1=int(input(\"Escribe primer número: \"))\n",
        "numero2=int(input(\"Escribe segundo número: \"))\n",
        "numero3=int(input(\"Escribe tercer número: \"))\n",
        "suma=numero1+numero2+numero3\n",
        "print(f\"suma= {suma}\")"
      ],
      "metadata": {
        "colab": {
          "base_uri": "https://localhost:8080/"
        },
        "id": "ctQ4HKnPRknq",
        "outputId": "6851a296-4908-43e5-f81b-c9a76e0371dd"
      },
      "execution_count": 65,
      "outputs": [
        {
          "output_type": "stream",
          "name": "stdout",
          "text": [
            "Escribe primer número: 45\n",
            "Escribe segundo número: 51\n",
            "Escribe tercer número: 12\n",
            "suma= 108\n"
          ]
        }
      ]
    },
    {
      "cell_type": "code",
      "source": [
        "#Crear un programa que solicite valores numéricos al usuario y luego imprima el resto del primero menos el segundo valor.\n",
        "dividendo=int(input(\"Escribe dividendo: \"))\n",
        "divisor=int(input(\"Escribe divisor: \"))\n",
        "resto=dividendo % divisor\n",
        "print(f\"resto= {resto}\")"
      ],
      "metadata": {
        "colab": {
          "base_uri": "https://localhost:8080/"
        },
        "id": "SwfIHzOkSZNq",
        "outputId": "be0201a2-b424-493f-db4c-c71ccc29c556"
      },
      "execution_count": 64,
      "outputs": [
        {
          "output_type": "stream",
          "name": "stdout",
          "text": [
            "Escribe dividendo: 59\n",
            "Escribe divisor: 12\n",
            "resto= 11\n"
          ]
        }
      ]
    },
    {
      "cell_type": "code",
      "source": [
        "#Crear un programa que solicite valores numéricos al usuario e imprima la multiplicación de los valores\n",
        "numero1=int(input(\"Escribe primer número: \"))\n",
        "numero2=int(input(\"Escribe segundo número: \"))\n",
        "multiplicacion=numero1*numero2\n",
        "print(f\"multiplicacion= {multiplicacion}\")"
      ],
      "metadata": {
        "colab": {
          "base_uri": "https://localhost:8080/"
        },
        "id": "gIoi4i-BSqG5",
        "outputId": "c86d061c-88d6-477f-e05f-f0a96db8dcc0"
      },
      "execution_count": 63,
      "outputs": [
        {
          "output_type": "stream",
          "name": "stdout",
          "text": [
            "Escribe primer número: 50\n",
            "Escribe segundo número: 56\n",
            "multiplicacion= 2800\n"
          ]
        }
      ]
    },
    {
      "cell_type": "code",
      "source": [
        "#Crea un programa que solicite valores numéricos, un numerador y un denominador, y resalte la división entre los valores. Asegúrese de que el valor del denominador no sea igual a 0\n",
        "numerador=int(input(\"Escribe el numerador: \"))\n",
        "denominador=int(input(\"Escribe el denominador: \"))\n",
        "division=numerador/denominador\n",
        "print(f\"division= {division}\")"
      ],
      "metadata": {
        "colab": {
          "base_uri": "https://localhost:8080/"
        },
        "id": "BraXvgVDUeyB",
        "outputId": "942f9fa0-b720-4082-c8cb-51d42ff112d6"
      },
      "execution_count": 62,
      "outputs": [
        {
          "output_type": "stream",
          "name": "stdout",
          "text": [
            "Escribe el numerador: 45\n",
            "Escribe el denominador: 12\n",
            "division= 3.75\n"
          ]
        }
      ]
    },
    {
      "cell_type": "code",
      "source": [
        "#Crea un programa que solicite valores numéricos, un operador y una potencia, y resalte el exponente entre estos valores\n",
        "operador=int(input(\"Escribe el operador: \"))\n",
        "potencia=int(input(\"Escribe la potencia a la que quieres elevarlo: \"))\n",
        "exponente=operador**potencia\n",
        "print(f\"exponente= {exponente}\")\n"
      ],
      "metadata": {
        "colab": {
          "base_uri": "https://localhost:8080/"
        },
        "id": "X_TtMLB5VV8x",
        "outputId": "25a97e9f-2a4b-4537-eb5d-a2421e9fa985"
      },
      "execution_count": 61,
      "outputs": [
        {
          "output_type": "stream",
          "name": "stdout",
          "text": [
            "Escribe el operador: 8\n",
            "Escribe la potencia a la que quieres elevarlo: 3\n",
            "exponente= 512\n"
          ]
        }
      ]
    },
    {
      "cell_type": "code",
      "source": [
        "#Crea un código que solicite las 3 notas de un estudiante e imprima el promedio de las notas\n",
        "materia1=input(\"Nombre de la Materia: \")\n",
        "calificacion=int(input(\"Calificacion: \"))\n",
        "materia2=input(\"Nombre de la Materia: \")\n",
        "calificacion2=int(input(\"Calificacion: \"))\n",
        "materia3=input(\"Nombre de la Materia: \")\n",
        "calificacion3=int(input(\"Calificacion: \"))\n",
        "promedio=(calificacion+calificacion2+calificacion3)/3\n",
        "print(f\"promedio= {promedio}\")"
      ],
      "metadata": {
        "colab": {
          "base_uri": "https://localhost:8080/"
        },
        "id": "u2haT1O5WbKR",
        "outputId": "500ec179-2138-4239-a84f-d52678ef5b19"
      },
      "execution_count": 60,
      "outputs": [
        {
          "output_type": "stream",
          "name": "stdout",
          "text": [
            "Nombre de la Materia: Matematicas\n",
            "Calificacion: 7\n",
            "Nombre de la Materia: Ciencias\n",
            "Calificacion: 8\n",
            "Nombre de la Materia: Lectura\n",
            "Calificacion: 4\n",
            "promedio= 6.333333333333333\n"
          ]
        }
      ]
    },
    {
      "cell_type": "code",
      "source": [
        "5#Crea un código que calcule e imprima el promedio ponderado de los números 5, 12, 20 y 15 con pesos respectivamente iguales a 1, 2, 3 y 4\n",
        "promedio_ponderado=(5*1+12*2+20*3+15*4)/10\n",
        "print(f\"promedio ponderado= {promedio_ponderado}\")"
      ],
      "metadata": {
        "colab": {
          "base_uri": "https://localhost:8080/"
        },
        "id": "vkV95H_HYJzZ",
        "outputId": "1d226d23-aba1-4402-ee4c-ea9eca64ccfe"
      },
      "execution_count": 41,
      "outputs": [
        {
          "output_type": "stream",
          "name": "stdout",
          "text": [
            "promedio ponderado= 14.9\n"
          ]
        }
      ]
    },
    {
      "cell_type": "code",
      "source": [
        "#- Crea una variable llamada \"frase\" y asigna una cadena de texto de tu elección. Luego imprime la frase en la pantalla\n",
        "frase = \"Lo que más me interesa de hacer música es crear algo que no exista, pero que a mí me gustaría escuchar\"\n",
        "print (frase)\n"
      ],
      "metadata": {
        "colab": {
          "base_uri": "https://localhost:8080/"
        },
        "id": "wKD5L-LSY0ZR",
        "outputId": "19745c00-702d-4fc1-d6a6-2d86ebf4d233"
      },
      "execution_count": 42,
      "outputs": [
        {
          "output_type": "stream",
          "name": "stdout",
          "text": [
            "Lo que más me interesa de hacer música es crear algo que no exista, pero que a mí me gustaría escuchar\n"
          ]
        }
      ]
    },
    {
      "cell_type": "code",
      "source": [
        "#Crea un código que solicite una frase e imprime la frase en la pantalla.\n",
        "frase=input(\"Escribe tu frase: \")\n",
        "print (frase)"
      ],
      "metadata": {
        "colab": {
          "base_uri": "https://localhost:8080/"
        },
        "id": "76E3T7tTdGqQ",
        "outputId": "fc6b212a-0cd8-4175-c466-ab12d5228a72"
      },
      "execution_count": 48,
      "outputs": [
        {
          "output_type": "stream",
          "name": "stdout",
          "text": [
            "Escribe tu frase: azules de cornejo\n",
            "azules de cornejo\n"
          ]
        }
      ]
    },
    {
      "cell_type": "code",
      "source": [
        "#Crea un código que solicite una oración al usuario y luego imprima la misma oración ingresada pero en mayúsculas\n",
        "oracion=input(\"Escribe tu oracion: \")\n",
        "oracion_mayusculas = oracion.upper()\n",
        "print(oracion_mayusculas)"
      ],
      "metadata": {
        "colab": {
          "base_uri": "https://localhost:8080/"
        },
        "id": "JaMLMjtUdemn",
        "outputId": "b06cff8e-604e-4965-abe2-3f518175f4fd"
      },
      "execution_count": 71,
      "outputs": [
        {
          "output_type": "stream",
          "name": "stdout",
          "text": [
            "Escribe tu oracion: Marina come manzanas\n",
            "MARINA COME MANZANAS\n"
          ]
        }
      ]
    },
    {
      "cell_type": "code",
      "source": [
        "#Crea un código que solicita una oración al usuario y luego imprime la misma oración ingresada pero en minúsculas\n",
        "oracion=input(\"Escribe una oracion: \")\n",
        "oracion_minusculas = oracion.lower()\n",
        "print(oracion_minusculas)"
      ],
      "metadata": {
        "colab": {
          "base_uri": "https://localhost:8080/"
        },
        "id": "CTAiclpKfH8w",
        "outputId": "eb53ff1d-af9a-4828-a76f-6da4c8d7d179"
      },
      "execution_count": 72,
      "outputs": [
        {
          "output_type": "stream",
          "name": "stdout",
          "text": [
            "Escribe una oracion: MAGDALENA COME SIERRAS\n",
            "magdalena come sierras\n"
          ]
        }
      ]
    },
    {
      "cell_type": "code",
      "source": [
        "#Crea una variable llamada \"frase\" y asigna una cadena de texto de tu elección. Luego, imprime la oración sin espacios en blanco al principio y al final\n",
        "frase = \" Lo que más me interesa de hacer música es crear algo que no exista, pero que a mí me gustaría escuchar \"\n",
        "frase_noespacio = frase.strip()\n",
        "print(frase_noespacio)"
      ],
      "metadata": {
        "colab": {
          "base_uri": "https://localhost:8080/"
        },
        "id": "bqkZoAoGgXp_",
        "outputId": "380988cb-4ca1-4384-ba58-afdc0e17d423"
      },
      "execution_count": 57,
      "outputs": [
        {
          "output_type": "stream",
          "name": "stdout",
          "text": [
            "Lo que más me interesa de hacer música es crear algo que no exista, pero que a mí me gustaría escuchar\n"
          ]
        }
      ]
    },
    {
      "cell_type": "code",
      "source": [
        "#Crea un código que solicite una oración al usuario y luego imprima la misma oración sin espacios en blanco al principio y al final\n",
        "frase=input(\"Escribe la frase: \")\n",
        "frase_sinespacio = frase.strip()\n",
        "print(frase_sinespacio)"
      ],
      "metadata": {
        "colab": {
          "base_uri": "https://localhost:8080/"
        },
        "id": "wUljQAENhRl4",
        "outputId": "cbaccce4-1090-4754-9c24-db2eafccd5b5"
      },
      "execution_count": 59,
      "outputs": [
        {
          "output_type": "stream",
          "name": "stdout",
          "text": [
            "Escribe la frase: Comer de medianoche es asegurar una gosrdura frustrante\n",
            "Comer de medianoche es asegurar una gosrdura frustrante\n"
          ]
        }
      ]
    },
    {
      "cell_type": "code",
      "source": [
        "#Crea un código que solicite una oración al usuario y luego imprima la misma oración sin espacios en blanco al principio y al final, además de convertirla a minúsculas\n",
        "frase=input(\"Escribe una Frase: \")\n",
        "frase_espacio = frase.strip()\n",
        "frase_minusculas = frase_espacio.lower()\n",
        "print(frase_minusculas)"
      ],
      "metadata": {
        "colab": {
          "base_uri": "https://localhost:8080/"
        },
        "id": "4p6fjxmAiO7X",
        "outputId": "1c49a441-9def-45ae-bf75-0ed8c426f2d2"
      },
      "execution_count": 79,
      "outputs": [
        {
          "output_type": "stream",
          "name": "stdout",
          "text": [
            "Escribe una Frase: Las rosas rojas son caras pero muy hermosas\n",
            "las rosas rojas son caras pero muy hermosas\n"
          ]
        }
      ]
    },
    {
      "cell_type": "code",
      "source": [
        "#- Crea un código que solicita una frase al usuario y luego imprime la misma frase con todas las vocales \"e\" reemplazadas por la letra \"f\"\n",
        "frase=input(\"Escribe una frase: \")\n",
        "frase_reemplazada = frase.replace(\"e\", \"f\")\n",
        "print(frase_reemplazada)"
      ],
      "metadata": {
        "colab": {
          "base_uri": "https://localhost:8080/"
        },
        "id": "pEX2OlfVj8D3",
        "outputId": "9cd645be-9beb-4a26-fc94-70bdfa5ccbbd"
      },
      "execution_count": 80,
      "outputs": [
        {
          "output_type": "stream",
          "name": "stdout",
          "text": [
            "Escribe una frase: Los animales pueden comer semillas siempre\n",
            "Los animalfs pufdfn comfr sfmillas sifmprf\n"
          ]
        }
      ]
    },
    {
      "cell_type": "code",
      "source": [
        "#Crea un código que solicita una frase al usuario y luego imprime la misma frase con todas las vocales \"a\" reemplazadas por el carácter \"@\".\n",
        "frase=input(\"escribe tu frase: \")\n",
        "frase_reemplazada = frase.replace(\"a\", \"@\")\n",
        "print(frase_reemplazada)"
      ],
      "metadata": {
        "colab": {
          "base_uri": "https://localhost:8080/"
        },
        "id": "zKh3Fgs6mU0e",
        "outputId": "f3bbb280-10a1-471b-e69f-53b435ac63ea"
      },
      "execution_count": 85,
      "outputs": [
        {
          "output_type": "stream",
          "name": "stdout",
          "text": [
            "escribe tu frase: Las flores son mas hermosas por la mañana\n",
            "L@s flores son m@s hermos@s por l@ m@ñ@n@\n"
          ]
        }
      ]
    },
    {
      "cell_type": "code",
      "source": [
        "#Crea un código que solicita una oración al usuario y luego imprime la misma oración con todas las consonantes \"s\" reemplazadas por el carácter \"$\".\n",
        "frase2=input(\"Esbribe una frase para ser reemplazada: \")\n",
        "frase2_reemplazada = frase2.replace (\"s\", \"$\")\n",
        "print(frase2_reemplazada)"
      ],
      "metadata": {
        "colab": {
          "base_uri": "https://localhost:8080/"
        },
        "id": "YX7SXr1tndFO",
        "outputId": "0b735dc9-64fa-423d-b502-23d63fa0ea0a"
      },
      "execution_count": 88,
      "outputs": [
        {
          "output_type": "stream",
          "name": "stdout",
          "text": [
            "Esbribe una frase para ser reemplazada: Los azules ojos de los gatos grises\n",
            "Lo$ azule$ ojo$ de lo$ gato$ gri$e$\n"
          ]
        }
      ]
    },
    {
      "cell_type": "code",
      "source": [],
      "metadata": {
        "id": "KnwgGctNoPKO"
      },
      "execution_count": null,
      "outputs": []
    }
  ]
}